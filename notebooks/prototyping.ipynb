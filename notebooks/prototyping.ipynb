{
 "cells": [
  {
   "cell_type": "code",
   "execution_count": null,
   "id": "08c6d54e",
   "metadata": {},
   "outputs": [
    {
     "name": "stderr",
     "output_type": "stream",
     "text": [
      "c:\\Users\\Matthew\\AppData\\Local\\anaconda3\\envs\\torchenv\\lib\\site-packages\\albumentations\\__init__.py:13: UserWarning: A new version of Albumentations is available: 2.0.8 (you have 1.4.15). Upgrade using: pip install -U albumentations. To disable automatic update checks, set the environment variable NO_ALBUMENTATIONS_UPDATE to 1.\n",
      "  check_for_updates()\n"
     ]
    }
   ],
   "source": [
    "# SHOPEE DATA LOADER\n",
    "\n",
    "import os\n",
    "import pandas as pd\n",
    "import numpy as np\n",
    "import torch\n",
    "from torch.utils.data import Dataset\n",
    "import tifffile as tiff\n",
    "import albumentations as A\n",
    "from albumentations.pytorch import ToTensorV2\n",
    "\n",
    "\n",
    "class ShopeeDataset(Dataset):\n",
    "    \"\"\"\n",
    "\n",
    "    Dataset class combining shopee dataset images with product information.\n",
    "\n",
    "    \"\"\"\n",
    "\n",
    "    \n",
    "\n",
    "    \n",
    "\n"
   ]
  },
  {
   "cell_type": "code",
   "execution_count": 2,
   "id": "12fd4e56",
   "metadata": {},
   "outputs": [],
   "source": [
    "# Resize all images to 256 x 256\n",
    "import os\n",
    "from PIL import Image\n",
    "\n",
    "data_dir_imgs_train = r'C:\\Users\\Matthew\\Documents\\PhD\\shopee-product-matching\\data\\train_images'\n",
    "data_dir_imgs_test = r'C:\\Users\\Matthew\\Documents\\PhD\\shopee-product-matching\\data\\test_images'\n",
    "\n",
    "for root, dirs, files in os.walk(data_dir_imgs_train):\n",
    "    for file in files:\n",
    "        image = Image.open(os.path.join(root,file))\n",
    "        resized_img = image.resize((224, 224), resample=Image.LANCZOS)\n",
    "        resized_img.save(os.path.join(root,file))\n",
    "\n",
    "for root, dirs, files in os.walk(data_dir_imgs_test):\n",
    "    for file in files:\n",
    "        image = Image.open(os.path.join(root,file))\n",
    "        resized_img = image.resize((224, 224), resample=Image.LANCZOS)\n",
    "        resized_img.save(os.path.join(root,file))\n",
    "\n"
   ]
  },
  {
   "cell_type": "code",
   "execution_count": 7,
   "id": "3b51e2db",
   "metadata": {},
   "outputs": [
    {
     "name": "stdout",
     "output_type": "stream",
     "text": [
      "Downloading model...\n",
      "Downloading tokenizer...\n",
      "Saved successfully to: C:\\Users\\Matthew\\Documents\\PhD\\shopee-product-matching\\models\\bert-base-uncased\n"
     ]
    }
   ],
   "source": [
    "from transformers import BertModel, BertTokenizer\n",
    "import os\n",
    "\n",
    "save_dir = r\"C:\\Users\\Matthew\\Documents\\PhD\\shopee-product-matching\\models\\bert-base-uncased\"\n",
    "\n",
    "# Ensure directory exists\n",
    "os.makedirs(save_dir, exist_ok=True)\n",
    "\n",
    "# Download and save model and tokenizer\n",
    "print(\"Downloading model...\")\n",
    "model = BertModel.from_pretrained(\"bert-base-uncased\")\n",
    "model.save_pretrained(save_dir)\n",
    "\n",
    "print(\"Downloading tokenizer...\")\n",
    "tokenizer = BertTokenizer.from_pretrained(\"bert-base-uncased\")\n",
    "tokenizer.save_pretrained(save_dir)\n",
    "\n",
    "print(\"Saved successfully to:\", save_dir)\n"
   ]
  }
 ],
 "metadata": {
  "kernelspec": {
   "display_name": "torchenv",
   "language": "python",
   "name": "python3"
  },
  "language_info": {
   "codemirror_mode": {
    "name": "ipython",
    "version": 3
   },
   "file_extension": ".py",
   "mimetype": "text/x-python",
   "name": "python",
   "nbconvert_exporter": "python",
   "pygments_lexer": "ipython3",
   "version": "3.9.20"
  }
 },
 "nbformat": 4,
 "nbformat_minor": 5
}
